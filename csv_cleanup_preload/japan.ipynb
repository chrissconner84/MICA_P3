{
 "cells": [
  {
   "cell_type": "code",
   "execution_count": 1,
   "id": "6dc3dcce",
   "metadata": {},
   "outputs": [],
   "source": [
    "#dependencies\n",
    "\n",
    "from matplotlib import pyplot as plt\n",
    "from scipy.stats import linregress\n",
    "import numpy as np\n",
    "import pandas as pd\n",
    "import plotly.graph_objects as go\n",
    "import plotly.express as px\n",
    "\n",
    "import seaborn as sns\n",
    "%matplotlib inline"
   ]
  },
  {
   "cell_type": "code",
   "execution_count": 2,
   "id": "3abf92bd",
   "metadata": {},
   "outputs": [],
   "source": [
    "# Read in csv's\n",
    "\n",
    "temp_us = \"..//practice_sources/jp_youtube_trending_data.csv\"\n",
    "jp_df = pd.read_csv(temp_us)\n",
    "\n",
    "# Add country string column\n",
    "jp_df['country'] = 'Japan'"
   ]
  },
  {
   "cell_type": "code",
   "execution_count": 3,
   "id": "9715d31b",
   "metadata": {},
   "outputs": [],
   "source": [
    "# Updating categoryId column with corresponding string for all csv's\n",
    "\n",
    "category_codes = {\n",
    "    \"1\":'Film & Animation',\n",
    "    \"2\":'Autos & Vehicles',\n",
    "    \"10\":'Music',\n",
    "    \"15\":'Pets & Animals',\n",
    "    \"17\":'Sports',\n",
    "    \"18\":'Short Movies',\n",
    "    \"19\":'Travel & Events',\n",
    "    \"20\":'Gaming',\n",
    "    \"21\":'Videoblogging',\n",
    "    \"22\":'People & Blogs',\n",
    "    \"23\":'Comedy',\n",
    "    \"24\":'Entertainment',\n",
    "    \"25\":'News & Politics',\n",
    "    \"26\":'Howto & Style',\n",
    "    \"27\":'Education',\n",
    "    \"28\":'Science & Technology',\n",
    "    \"29\":'Nonprofits & Activism',\n",
    "    \"30\":'Movies',\n",
    "    \"31\":'Anime/Animation',\n",
    "    \"32\":'Action/Adventure',\n",
    "    \"33\":'Classics',\n",
    "    \"34\":'Comedy',\n",
    "    \"35\":'Documentary',\n",
    "    \"36\":'Drama',\n",
    "    \"37\":'Family',\n",
    "    \"38\":'Foreign',\n",
    "    \"39\":'Horror',\n",
    "    \"40\":'Sci-Fi/Fantasy',\n",
    "    \"41\":'Thriller',\n",
    "    \"42\":'Shorts',\n",
    "    \"43\":'Shows',\n",
    "    \"44\":'Trailers'\n",
    "}\n",
    "\n",
    "cat_code = jp_df[\"categoryId\"].map(lambda x: category_codes[str(x)])\n",
    "jp_df['cat_codes'] = cat_code"
   ]
  },
  {
   "cell_type": "code",
   "execution_count": 4,
   "id": "cd973b52",
   "metadata": {},
   "outputs": [],
   "source": [
    "# drop uneeded columns\n",
    "\n",
    "jp_df.drop(['comments_disabled', 'ratings_disabled'], axis = 1, inplace = True)"
   ]
  },
  {
   "cell_type": "code",
   "execution_count": 5,
   "id": "64a2b403",
   "metadata": {},
   "outputs": [],
   "source": [
    "# drop uneeded columns\n",
    "\n",
    "jp_df.drop(['title', 'tags'], axis = 1, inplace = True)"
   ]
  },
  {
   "cell_type": "code",
   "execution_count": 6,
   "id": "41f637eb",
   "metadata": {},
   "outputs": [],
   "source": [
    "jp_df.drop(['categoryId', 'description'], axis = 1, inplace = True)"
   ]
  },
  {
   "cell_type": "code",
   "execution_count": 7,
   "id": "daa8a44b",
   "metadata": {},
   "outputs": [],
   "source": [
    "jp_df.to_csv(\"../project3_data_file/jp.csv\", index = False)"
   ]
  },
  {
   "cell_type": "code",
   "execution_count": null,
   "id": "b6a0617f",
   "metadata": {},
   "outputs": [],
   "source": []
  }
 ],
 "metadata": {
  "kernelspec": {
   "display_name": "Python 3",
   "language": "python",
   "name": "python3"
  },
  "language_info": {
   "codemirror_mode": {
    "name": "ipython",
    "version": 3
   },
   "file_extension": ".py",
   "mimetype": "text/x-python",
   "name": "python",
   "nbconvert_exporter": "python",
   "pygments_lexer": "ipython3",
   "version": "3.8.8"
  }
 },
 "nbformat": 4,
 "nbformat_minor": 5
}
