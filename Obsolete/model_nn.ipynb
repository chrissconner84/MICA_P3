{
  "cells": [
    {
      "cell_type": "code",
      "execution_count": 2,
      "id": "cb978d3b",
      "metadata": {
        "id": "cb978d3b"
      },
      "outputs": [],
      "source": [
        "# dependencies\n",
        "\n",
        "import warnings\n",
        "warnings.filterwarnings('ignore')\n",
        "\n",
        "import numpy as np\n",
        "import pandas as pd\n",
        "import matplotlib.pyplot as plt\n",
        "\n",
        "from sqlalchemy import create_engine\n",
        "\n",
        "import datetime\n",
        "\n",
        "# postgres pull\n",
        "\n",
        "db_password = \"postgres\"\n",
        "db_user = \"postgres\"\n",
        "db_name = \"Youtube P3\"\n",
        "endpoint = 'youtube.cb1bticre0py.us-east-1.rds.amazonaws.com'\n",
        "\n",
        "connection_string = f\"postgresql://{db_user}:{db_password}@{endpoint}:5432/{db_name}\"\n",
        "engine = create_engine(connection_string)\n",
        "\n",
        "slimmer_unique = pd.read_sql('SELECT * FROM final_unique;', con = engine)\n"
      ]
    },
    {
      "cell_type": "code",
      "execution_count": 3,
      "id": "A8AOO6m5ryXC",
      "metadata": {
        "colab": {
          "base_uri": "https://localhost:8080/",
          "height": 334
        },
        "id": "A8AOO6m5ryXC",
        "outputId": "6fd5cf63-832f-4f44-9354-cddbedca3d24"
      },
      "outputs": [
        {
          "data": {
            "text/html": [
              "<div>\n",
              "<style scoped>\n",
              "    .dataframe tbody tr th:only-of-type {\n",
              "        vertical-align: middle;\n",
              "    }\n",
              "\n",
              "    .dataframe tbody tr th {\n",
              "        vertical-align: top;\n",
              "    }\n",
              "\n",
              "    .dataframe thead th {\n",
              "        text-align: right;\n",
              "    }\n",
              "</style>\n",
              "<table border=\"1\" class=\"dataframe\">\n",
              "  <thead>\n",
              "    <tr style=\"text-align: right;\">\n",
              "      <th></th>\n",
              "      <th>index</th>\n",
              "      <th>publish_to_trend</th>\n",
              "      <th>pt_views</th>\n",
              "      <th>pt_likes</th>\n",
              "      <th>pt_dislikes</th>\n",
              "      <th>pt_comments</th>\n",
              "      <th>category_e</th>\n",
              "      <th>publish_day_num</th>\n",
              "      <th>target</th>\n",
              "    </tr>\n",
              "  </thead>\n",
              "  <tbody>\n",
              "    <tr>\n",
              "      <th>0</th>\n",
              "      <td>0</td>\n",
              "      <td>0.40</td>\n",
              "      <td>-0.02</td>\n",
              "      <td>0.26</td>\n",
              "      <td>0.02</td>\n",
              "      <td>0.03</td>\n",
              "      <td>7.0</td>\n",
              "      <td>1.0</td>\n",
              "      <td>1.0</td>\n",
              "    </tr>\n",
              "    <tr>\n",
              "      <th>1</th>\n",
              "      <td>1</td>\n",
              "      <td>0.07</td>\n",
              "      <td>-0.30</td>\n",
              "      <td>-0.27</td>\n",
              "      <td>-0.07</td>\n",
              "      <td>-0.14</td>\n",
              "      <td>3.0</td>\n",
              "      <td>1.0</td>\n",
              "      <td>1.0</td>\n",
              "    </tr>\n",
              "    <tr>\n",
              "      <th>2</th>\n",
              "      <td>2</td>\n",
              "      <td>-0.26</td>\n",
              "      <td>-0.35</td>\n",
              "      <td>-0.33</td>\n",
              "      <td>-0.07</td>\n",
              "      <td>-0.15</td>\n",
              "      <td>3.0</td>\n",
              "      <td>2.0</td>\n",
              "      <td>1.0</td>\n",
              "    </tr>\n",
              "    <tr>\n",
              "      <th>3</th>\n",
              "      <td>3</td>\n",
              "      <td>0.07</td>\n",
              "      <td>0.10</td>\n",
              "      <td>-0.28</td>\n",
              "      <td>-0.05</td>\n",
              "      <td>-0.02</td>\n",
              "      <td>13.0</td>\n",
              "      <td>2.0</td>\n",
              "      <td>1.0</td>\n",
              "    </tr>\n",
              "    <tr>\n",
              "      <th>4</th>\n",
              "      <td>4</td>\n",
              "      <td>1.05</td>\n",
              "      <td>1.83</td>\n",
              "      <td>2.80</td>\n",
              "      <td>0.98</td>\n",
              "      <td>1.20</td>\n",
              "      <td>7.0</td>\n",
              "      <td>1.0</td>\n",
              "      <td>1.0</td>\n",
              "    </tr>\n",
              "  </tbody>\n",
              "</table>\n",
              "</div>"
            ],
            "text/plain": [
              "   index  publish_to_trend  pt_views  pt_likes  pt_dislikes  pt_comments  \\\n",
              "0      0              0.40     -0.02      0.26         0.02         0.03   \n",
              "1      1              0.07     -0.30     -0.27        -0.07        -0.14   \n",
              "2      2             -0.26     -0.35     -0.33        -0.07        -0.15   \n",
              "3      3              0.07      0.10     -0.28        -0.05        -0.02   \n",
              "4      4              1.05      1.83      2.80         0.98         1.20   \n",
              "\n",
              "   category_e  publish_day_num  target  \n",
              "0         7.0              1.0     1.0  \n",
              "1         3.0              1.0     1.0  \n",
              "2         3.0              2.0     1.0  \n",
              "3        13.0              2.0     1.0  \n",
              "4         7.0              1.0     1.0  "
            ]
          },
          "execution_count": 3,
          "metadata": {},
          "output_type": "execute_result"
        }
      ],
      "source": [
        "slimmer_unique.head()"
      ]
    },
    {
      "cell_type": "code",
      "execution_count": 4,
      "id": "25d22717",
      "metadata": {
        "id": "25d22717"
      },
      "outputs": [],
      "source": [
        "#slimmer_unique=pd.read_csv('https://elasticbeanstalk-us-west-1-140033263198.s3.us-west-1.amazonaws.com/cleaned.csv')  "
      ]
    },
    {
      "cell_type": "code",
      "execution_count": 5,
      "id": "3f741e1f",
      "metadata": {
        "colab": {
          "base_uri": "https://localhost:8080/"
        },
        "id": "3f741e1f",
        "outputId": "59047854-b832-47e9-8a66-d7a4a784f639"
      },
      "outputs": [
        {
          "ename": "KeyError",
          "evalue": "'trend_days'",
          "output_type": "error",
          "traceback": [
            "\u001b[1;31m---------------------------------------------------------------------------\u001b[0m",
            "\u001b[1;31mKeyError\u001b[0m                                  Traceback (most recent call last)",
            "\u001b[1;32mc:\\Users\\igrang\\anaconda3\\lib\\site-packages\\pandas\\core\\indexes\\base.py\u001b[0m in \u001b[0;36mget_loc\u001b[1;34m(self, key, method, tolerance)\u001b[0m\n\u001b[0;32m   3620\u001b[0m             \u001b[1;32mtry\u001b[0m\u001b[1;33m:\u001b[0m\u001b[1;33m\u001b[0m\u001b[1;33m\u001b[0m\u001b[0m\n\u001b[1;32m-> 3621\u001b[1;33m                 \u001b[1;32mreturn\u001b[0m \u001b[0mself\u001b[0m\u001b[1;33m.\u001b[0m\u001b[0m_engine\u001b[0m\u001b[1;33m.\u001b[0m\u001b[0mget_loc\u001b[0m\u001b[1;33m(\u001b[0m\u001b[0mcasted_key\u001b[0m\u001b[1;33m)\u001b[0m\u001b[1;33m\u001b[0m\u001b[1;33m\u001b[0m\u001b[0m\n\u001b[0m\u001b[0;32m   3622\u001b[0m             \u001b[1;32mexcept\u001b[0m \u001b[0mKeyError\u001b[0m \u001b[1;32mas\u001b[0m \u001b[0merr\u001b[0m\u001b[1;33m:\u001b[0m\u001b[1;33m\u001b[0m\u001b[1;33m\u001b[0m\u001b[0m\n",
            "\u001b[1;32mc:\\Users\\igrang\\anaconda3\\lib\\site-packages\\pandas\\_libs\\index.pyx\u001b[0m in \u001b[0;36mpandas._libs.index.IndexEngine.get_loc\u001b[1;34m()\u001b[0m\n",
            "\u001b[1;32mc:\\Users\\igrang\\anaconda3\\lib\\site-packages\\pandas\\_libs\\index.pyx\u001b[0m in \u001b[0;36mpandas._libs.index.IndexEngine.get_loc\u001b[1;34m()\u001b[0m\n",
            "\u001b[1;32mpandas\\_libs\\hashtable_class_helper.pxi\u001b[0m in \u001b[0;36mpandas._libs.hashtable.PyObjectHashTable.get_item\u001b[1;34m()\u001b[0m\n",
            "\u001b[1;32mpandas\\_libs\\hashtable_class_helper.pxi\u001b[0m in \u001b[0;36mpandas._libs.hashtable.PyObjectHashTable.get_item\u001b[1;34m()\u001b[0m\n",
            "\u001b[1;31mKeyError\u001b[0m: 'trend_days'",
            "\nThe above exception was the direct cause of the following exception:\n",
            "\u001b[1;31mKeyError\u001b[0m                                  Traceback (most recent call last)",
            "\u001b[1;32m<ipython-input-5-e74ddca8587c>\u001b[0m in \u001b[0;36m<module>\u001b[1;34m\u001b[0m\n\u001b[0;32m     14\u001b[0m \u001b[1;31m#X = slimmer_unique.filter(['category','publish_to_trend','likes_ratio','comments_ratio'], axis=1)\u001b[0m\u001b[1;33m\u001b[0m\u001b[1;33m\u001b[0m\u001b[1;33m\u001b[0m\u001b[0m\n\u001b[0;32m     15\u001b[0m \u001b[1;31m# X = slimmer_unique.drop(columns = ['target', 'trend_days']).values\u001b[0m\u001b[1;33m\u001b[0m\u001b[1;33m\u001b[0m\u001b[1;33m\u001b[0m\u001b[0m\n\u001b[1;32m---> 16\u001b[1;33m \u001b[0mslimmer_unique\u001b[0m\u001b[1;33m[\u001b[0m\u001b[1;34m'trending_bins'\u001b[0m\u001b[1;33m]\u001b[0m \u001b[1;33m=\u001b[0m \u001b[0mpd\u001b[0m\u001b[1;33m.\u001b[0m\u001b[0mqcut\u001b[0m\u001b[1;33m(\u001b[0m\u001b[0mslimmer_unique\u001b[0m\u001b[1;33m[\u001b[0m\u001b[1;34m'trend_days'\u001b[0m\u001b[1;33m]\u001b[0m\u001b[1;33m,\u001b[0m \u001b[0mq\u001b[0m\u001b[1;33m=\u001b[0m\u001b[1;36m2\u001b[0m\u001b[1;33m,\u001b[0m \u001b[0mprecision\u001b[0m\u001b[1;33m=\u001b[0m\u001b[1;36m0\u001b[0m\u001b[1;33m)\u001b[0m\u001b[1;33m\u001b[0m\u001b[1;33m\u001b[0m\u001b[0m\n\u001b[0m\u001b[0;32m     17\u001b[0m \u001b[1;33m\u001b[0m\u001b[0m\n\u001b[0;32m     18\u001b[0m \u001b[0mslimmer_unique\u001b[0m\u001b[1;33m[\u001b[0m\u001b[1;34m'trending_codes'\u001b[0m\u001b[1;33m]\u001b[0m \u001b[1;33m=\u001b[0m \u001b[0mpd\u001b[0m\u001b[1;33m.\u001b[0m\u001b[0mCategorical\u001b[0m\u001b[1;33m(\u001b[0m\u001b[0mslimmer_unique\u001b[0m\u001b[1;33m[\u001b[0m\u001b[1;34m'trending_bins'\u001b[0m\u001b[1;33m]\u001b[0m\u001b[1;33m)\u001b[0m\u001b[1;33m.\u001b[0m\u001b[0mcodes\u001b[0m\u001b[1;33m\u001b[0m\u001b[1;33m\u001b[0m\u001b[0m\n",
            "\u001b[1;32mc:\\Users\\igrang\\anaconda3\\lib\\site-packages\\pandas\\core\\frame.py\u001b[0m in \u001b[0;36m__getitem__\u001b[1;34m(self, key)\u001b[0m\n\u001b[0;32m   3503\u001b[0m             \u001b[1;32mif\u001b[0m \u001b[0mself\u001b[0m\u001b[1;33m.\u001b[0m\u001b[0mcolumns\u001b[0m\u001b[1;33m.\u001b[0m\u001b[0mnlevels\u001b[0m \u001b[1;33m>\u001b[0m \u001b[1;36m1\u001b[0m\u001b[1;33m:\u001b[0m\u001b[1;33m\u001b[0m\u001b[1;33m\u001b[0m\u001b[0m\n\u001b[0;32m   3504\u001b[0m                 \u001b[1;32mreturn\u001b[0m \u001b[0mself\u001b[0m\u001b[1;33m.\u001b[0m\u001b[0m_getitem_multilevel\u001b[0m\u001b[1;33m(\u001b[0m\u001b[0mkey\u001b[0m\u001b[1;33m)\u001b[0m\u001b[1;33m\u001b[0m\u001b[1;33m\u001b[0m\u001b[0m\n\u001b[1;32m-> 3505\u001b[1;33m             \u001b[0mindexer\u001b[0m \u001b[1;33m=\u001b[0m \u001b[0mself\u001b[0m\u001b[1;33m.\u001b[0m\u001b[0mcolumns\u001b[0m\u001b[1;33m.\u001b[0m\u001b[0mget_loc\u001b[0m\u001b[1;33m(\u001b[0m\u001b[0mkey\u001b[0m\u001b[1;33m)\u001b[0m\u001b[1;33m\u001b[0m\u001b[1;33m\u001b[0m\u001b[0m\n\u001b[0m\u001b[0;32m   3506\u001b[0m             \u001b[1;32mif\u001b[0m \u001b[0mis_integer\u001b[0m\u001b[1;33m(\u001b[0m\u001b[0mindexer\u001b[0m\u001b[1;33m)\u001b[0m\u001b[1;33m:\u001b[0m\u001b[1;33m\u001b[0m\u001b[1;33m\u001b[0m\u001b[0m\n\u001b[0;32m   3507\u001b[0m                 \u001b[0mindexer\u001b[0m \u001b[1;33m=\u001b[0m \u001b[1;33m[\u001b[0m\u001b[0mindexer\u001b[0m\u001b[1;33m]\u001b[0m\u001b[1;33m\u001b[0m\u001b[1;33m\u001b[0m\u001b[0m\n",
            "\u001b[1;32mc:\\Users\\igrang\\anaconda3\\lib\\site-packages\\pandas\\core\\indexes\\base.py\u001b[0m in \u001b[0;36mget_loc\u001b[1;34m(self, key, method, tolerance)\u001b[0m\n\u001b[0;32m   3621\u001b[0m                 \u001b[1;32mreturn\u001b[0m \u001b[0mself\u001b[0m\u001b[1;33m.\u001b[0m\u001b[0m_engine\u001b[0m\u001b[1;33m.\u001b[0m\u001b[0mget_loc\u001b[0m\u001b[1;33m(\u001b[0m\u001b[0mcasted_key\u001b[0m\u001b[1;33m)\u001b[0m\u001b[1;33m\u001b[0m\u001b[1;33m\u001b[0m\u001b[0m\n\u001b[0;32m   3622\u001b[0m             \u001b[1;32mexcept\u001b[0m \u001b[0mKeyError\u001b[0m \u001b[1;32mas\u001b[0m \u001b[0merr\u001b[0m\u001b[1;33m:\u001b[0m\u001b[1;33m\u001b[0m\u001b[1;33m\u001b[0m\u001b[0m\n\u001b[1;32m-> 3623\u001b[1;33m                 \u001b[1;32mraise\u001b[0m \u001b[0mKeyError\u001b[0m\u001b[1;33m(\u001b[0m\u001b[0mkey\u001b[0m\u001b[1;33m)\u001b[0m \u001b[1;32mfrom\u001b[0m \u001b[0merr\u001b[0m\u001b[1;33m\u001b[0m\u001b[1;33m\u001b[0m\u001b[0m\n\u001b[0m\u001b[0;32m   3624\u001b[0m             \u001b[1;32mexcept\u001b[0m \u001b[0mTypeError\u001b[0m\u001b[1;33m:\u001b[0m\u001b[1;33m\u001b[0m\u001b[1;33m\u001b[0m\u001b[0m\n\u001b[0;32m   3625\u001b[0m                 \u001b[1;31m# If we have a listlike key, _check_indexing_error will raise\u001b[0m\u001b[1;33m\u001b[0m\u001b[1;33m\u001b[0m\u001b[1;33m\u001b[0m\u001b[0m\n",
            "\u001b[1;31mKeyError\u001b[0m: 'trend_days'"
          ]
        }
      ],
      "source": [
        "# X = slim_unique.drop(columns = 'target').values\n",
        "\n",
        "# y = slim_unique['target'].values\n",
        "#X = slimmer_unique.filter([ 'category','publish_to_trend','likes_ratio','comments_ratio',\"views\",\"likes\",\"dislikes\", \"comments\"], axis=1)\n",
        "X = slimmer_unique.filter([     'category_e',\n",
        "    'publish_to_trend',\n",
        "    'publish_day_num',\n",
        "    'pt_views',\n",
        "    'pt_likes',\n",
        "    'pt_dislikes',\n",
        "    'pt_comments'])\n",
        "\n",
        "# y = slim_unique['target'].values\n",
        "#X = slimmer_unique.filter(['category','publish_to_trend','likes_ratio','comments_ratio'], axis=1)\n",
        "# X = slimmer_unique.drop(columns = ['target', 'trend_days']).values\n",
        "slimmer_unique['trending_bins'] = pd.qcut(slimmer_unique['trend_days'], q=2, precision=0)\n",
        "\n",
        "slimmer_unique['trending_codes'] = pd.Categorical(slimmer_unique['trending_bins']).codes\n",
        "y = slimmer_unique['trending_codes'].values\n"
      ]
    },
    {
      "cell_type": "code",
      "execution_count": null,
      "id": "sB1JhjpK24AS",
      "metadata": {
        "colab": {
          "base_uri": "https://localhost:8080/",
          "height": 206
        },
        "id": "sB1JhjpK24AS",
        "outputId": "87910890-9d33-47d0-ebb3-026433998617"
      },
      "outputs": [
        {
          "data": {
            "text/html": [
              "<div>\n",
              "<style scoped>\n",
              "    .dataframe tbody tr th:only-of-type {\n",
              "        vertical-align: middle;\n",
              "    }\n",
              "\n",
              "    .dataframe tbody tr th {\n",
              "        vertical-align: top;\n",
              "    }\n",
              "\n",
              "    .dataframe thead th {\n",
              "        text-align: right;\n",
              "    }\n",
              "</style>\n",
              "<table border=\"1\" class=\"dataframe\">\n",
              "  <thead>\n",
              "    <tr style=\"text-align: right;\">\n",
              "      <th></th>\n",
              "      <th>category_e</th>\n",
              "      <th>publish_to_trend</th>\n",
              "      <th>publish_day_num</th>\n",
              "      <th>pt_views</th>\n",
              "      <th>pt_likes</th>\n",
              "      <th>pt_dislikes</th>\n",
              "      <th>pt_comments</th>\n",
              "    </tr>\n",
              "  </thead>\n",
              "  <tbody>\n",
              "    <tr>\n",
              "      <th>0</th>\n",
              "      <td>3.0</td>\n",
              "      <td>3.0</td>\n",
              "      <td>2</td>\n",
              "      <td>5173063.0</td>\n",
              "      <td>1052986.0</td>\n",
              "      <td>29927.0</td>\n",
              "      <td>63557.0</td>\n",
              "    </tr>\n",
              "    <tr>\n",
              "      <th>1</th>\n",
              "      <td>8.0</td>\n",
              "      <td>2.0</td>\n",
              "      <td>0</td>\n",
              "      <td>267945.0</td>\n",
              "      <td>3040.0</td>\n",
              "      <td>394.0</td>\n",
              "      <td>1226.0</td>\n",
              "    </tr>\n",
              "    <tr>\n",
              "      <th>2</th>\n",
              "      <td>12.0</td>\n",
              "      <td>1.0</td>\n",
              "      <td>1</td>\n",
              "      <td>81049.0</td>\n",
              "      <td>5684.0</td>\n",
              "      <td>207.0</td>\n",
              "      <td>422.0</td>\n",
              "    </tr>\n",
              "    <tr>\n",
              "      <th>3</th>\n",
              "      <td>5.0</td>\n",
              "      <td>2.0</td>\n",
              "      <td>0</td>\n",
              "      <td>872005.0</td>\n",
              "      <td>52371.0</td>\n",
              "      <td>491.0</td>\n",
              "      <td>5043.0</td>\n",
              "    </tr>\n",
              "    <tr>\n",
              "      <th>4</th>\n",
              "      <td>7.0</td>\n",
              "      <td>6.0</td>\n",
              "      <td>1</td>\n",
              "      <td>573902.0</td>\n",
              "      <td>69319.0</td>\n",
              "      <td>970.0</td>\n",
              "      <td>3311.0</td>\n",
              "    </tr>\n",
              "  </tbody>\n",
              "</table>\n",
              "</div>"
            ],
            "text/plain": [
              "   category_e  publish_to_trend  publish_day_num   pt_views   pt_likes  \\\n",
              "0         3.0               3.0                2  5173063.0  1052986.0   \n",
              "1         8.0               2.0                0   267945.0     3040.0   \n",
              "2        12.0               1.0                1    81049.0     5684.0   \n",
              "3         5.0               2.0                0   872005.0    52371.0   \n",
              "4         7.0               6.0                1   573902.0    69319.0   \n",
              "\n",
              "   pt_dislikes  pt_comments  \n",
              "0      29927.0      63557.0  \n",
              "1        394.0       1226.0  \n",
              "2        207.0        422.0  \n",
              "3        491.0       5043.0  \n",
              "4        970.0       3311.0  "
            ]
          },
          "execution_count": 153,
          "metadata": {},
          "output_type": "execute_result"
        }
      ],
      "source": [
        "X.head()\n"
      ]
    },
    {
      "cell_type": "code",
      "execution_count": null,
      "id": "-StQxmKF2_Tx",
      "metadata": {
        "id": "-StQxmKF2_Tx"
      },
      "outputs": [
        {
          "name": "stdout",
          "output_type": "stream",
          "text": [
            "(241112, 7)\n",
            "(241112,)\n",
            "0          (0.0, 4.0]\n",
            "1          (0.0, 4.0]\n",
            "2          (0.0, 4.0]\n",
            "3          (0.0, 4.0]\n",
            "4         (4.0, 37.0]\n",
            "             ...     \n",
            "241107     (0.0, 4.0]\n",
            "241108     (0.0, 4.0]\n",
            "241109     (0.0, 4.0]\n",
            "241110     (0.0, 4.0]\n",
            "241111     (0.0, 4.0]\n",
            "Name: trending_bins, Length: 241112, dtype: category\n",
            "Categories (2, interval[float64, right]): [(0.0, 4.0] < (4.0, 37.0]]\n"
          ]
        }
      ],
      "source": [
        "\n",
        "print(X.shape)\n",
        "print(y.shape)\n",
        "print(slimmer_unique['trending_bins'])\n"
      ]
    },
    {
      "cell_type": "code",
      "execution_count": null,
      "id": "b2f87df9",
      "metadata": {
        "colab": {
          "base_uri": "https://localhost:8080/"
        },
        "id": "b2f87df9",
        "outputId": "a6fe3317-57a0-4113-cc85-2c0e2960e505"
      },
      "outputs": [
        {
          "data": {
            "text/plain": [
              "array([0, 0, 0, ..., 0, 0, 0], dtype=int8)"
            ]
          },
          "execution_count": 155,
          "metadata": {},
          "output_type": "execute_result"
        }
      ],
      "source": [
        "y\n"
      ]
    },
    {
      "cell_type": "code",
      "execution_count": null,
      "id": "XxfoeoIjToy7",
      "metadata": {
        "colab": {
          "base_uri": "https://localhost:8080/",
          "height": 283
        },
        "id": "XxfoeoIjToy7",
        "outputId": "c2cd293b-e5c5-4024-9f06-44257ad70479"
      },
      "outputs": [
        {
          "data": {
            "text/plain": [
              "<AxesSubplot:ylabel='Frequency'>"
            ]
          },
          "execution_count": 156,
          "metadata": {},
          "output_type": "execute_result"
        },
        {
          "data": {
            "image/png": "[encoded data removed]",
            "text/plain": [
              "<Figure size 432x288 with 1 Axes>"
            ]
          },
          "metadata": {},
          "output_type": "display_data"
        }
      ],
      "source": [
        "\n",
        "slimmer_unique['trending_codes'].plot(kind='hist')\n",
        "\n"
      ]
    },
    {
      "cell_type": "code",
      "execution_count": null,
      "id": "F1MkAErvRUp5",
      "metadata": {
        "id": "F1MkAErvRUp5"
      },
      "outputs": [],
      "source": [
        "\n",
        "\n",
        "\n"
      ]
    },
    {
      "cell_type": "code",
      "execution_count": null,
      "id": "xxwYJSp0SDxq",
      "metadata": {
        "id": "xxwYJSp0SDxq"
      },
      "outputs": [],
      "source": []
    },
    {
      "cell_type": "code",
      "execution_count": null,
      "id": "ab83719f",
      "metadata": {
        "id": "ab83719f"
      },
      "outputs": [],
      "source": [
        "from sklearn.linear_model import LinearRegression, Ridge, Lasso, ElasticNet\n",
        "from sklearn.model_selection import train_test_split\n",
        "import sklearn as skl\n",
        "\n",
        "X_train, X_test, y_train, y_test = train_test_split(X, y, random_state=42)\n",
        "\n",
        "# Create scaler instance\n",
        "X_scaler = skl.preprocessing.StandardScaler()\n"
      ]
    },
    {
      "cell_type": "code",
      "execution_count": null,
      "id": "scEk5_fEzgJd",
      "metadata": {
        "colab": {
          "base_uri": "https://localhost:8080/",
          "height": 423
        },
        "id": "scEk5_fEzgJd",
        "outputId": "e06dd02c-a64e-4ffc-c26d-35d5edd1a0a1"
      },
      "outputs": [
        {
          "data": {
            "text/html": [
              "<div>\n",
              "<style scoped>\n",
              "    .dataframe tbody tr th:only-of-type {\n",
              "        vertical-align: middle;\n",
              "    }\n",
              "\n",
              "    .dataframe tbody tr th {\n",
              "        vertical-align: top;\n",
              "    }\n",
              "\n",
              "    .dataframe thead th {\n",
              "        text-align: right;\n",
              "    }\n",
              "</style>\n",
              "<table border=\"1\" class=\"dataframe\">\n",
              "  <thead>\n",
              "    <tr style=\"text-align: right;\">\n",
              "      <th></th>\n",
              "      <th>category_e</th>\n",
              "      <th>publish_to_trend</th>\n",
              "      <th>publish_day_num</th>\n",
              "      <th>pt_views</th>\n",
              "      <th>pt_likes</th>\n",
              "      <th>pt_dislikes</th>\n",
              "      <th>pt_comments</th>\n",
              "    </tr>\n",
              "  </thead>\n",
              "  <tbody>\n",
              "    <tr>\n",
              "      <th>51554</th>\n",
              "      <td>11.0</td>\n",
              "      <td>4.0</td>\n",
              "      <td>6</td>\n",
              "      <td>53014.0</td>\n",
              "      <td>6725.0</td>\n",
              "      <td>74.0</td>\n",
              "      <td>453.0</td>\n",
              "    </tr>\n",
              "    <tr>\n",
              "      <th>120091</th>\n",
              "      <td>5.0</td>\n",
              "      <td>6.0</td>\n",
              "      <td>6</td>\n",
              "      <td>478628.0</td>\n",
              "      <td>54589.0</td>\n",
              "      <td>309.0</td>\n",
              "      <td>5368.0</td>\n",
              "    </tr>\n",
              "    <tr>\n",
              "      <th>201111</th>\n",
              "      <td>0.0</td>\n",
              "      <td>7.0</td>\n",
              "      <td>3</td>\n",
              "      <td>800749.0</td>\n",
              "      <td>90071.0</td>\n",
              "      <td>308.0</td>\n",
              "      <td>3574.0</td>\n",
              "    </tr>\n",
              "    <tr>\n",
              "      <th>102875</th>\n",
              "      <td>3.0</td>\n",
              "      <td>3.0</td>\n",
              "      <td>2</td>\n",
              "      <td>106722.0</td>\n",
              "      <td>11753.0</td>\n",
              "      <td>108.0</td>\n",
              "      <td>684.0</td>\n",
              "    </tr>\n",
              "    <tr>\n",
              "      <th>112477</th>\n",
              "      <td>3.0</td>\n",
              "      <td>8.0</td>\n",
              "      <td>5</td>\n",
              "      <td>6110235.0</td>\n",
              "      <td>734793.0</td>\n",
              "      <td>5889.0</td>\n",
              "      <td>72325.0</td>\n",
              "    </tr>\n",
              "    <tr>\n",
              "      <th>...</th>\n",
              "      <td>...</td>\n",
              "      <td>...</td>\n",
              "      <td>...</td>\n",
              "      <td>...</td>\n",
              "      <td>...</td>\n",
              "      <td>...</td>\n",
              "      <td>...</td>\n",
              "    </tr>\n",
              "    <tr>\n",
              "      <th>147719</th>\n",
              "      <td>7.0</td>\n",
              "      <td>4.0</td>\n",
              "      <td>1</td>\n",
              "      <td>625579.0</td>\n",
              "      <td>53952.0</td>\n",
              "      <td>389.0</td>\n",
              "      <td>3619.0</td>\n",
              "    </tr>\n",
              "    <tr>\n",
              "      <th>87548</th>\n",
              "      <td>10.0</td>\n",
              "      <td>3.0</td>\n",
              "      <td>5</td>\n",
              "      <td>553210.0</td>\n",
              "      <td>33514.0</td>\n",
              "      <td>378.0</td>\n",
              "      <td>1564.0</td>\n",
              "    </tr>\n",
              "    <tr>\n",
              "      <th>9255</th>\n",
              "      <td>3.0</td>\n",
              "      <td>5.0</td>\n",
              "      <td>6</td>\n",
              "      <td>391549.0</td>\n",
              "      <td>6391.0</td>\n",
              "      <td>90.0</td>\n",
              "      <td>318.0</td>\n",
              "    </tr>\n",
              "    <tr>\n",
              "      <th>229352</th>\n",
              "      <td>3.0</td>\n",
              "      <td>2.0</td>\n",
              "      <td>2</td>\n",
              "      <td>1129215.0</td>\n",
              "      <td>44861.0</td>\n",
              "      <td>308.0</td>\n",
              "      <td>1785.0</td>\n",
              "    </tr>\n",
              "    <tr>\n",
              "      <th>48079</th>\n",
              "      <td>1.0</td>\n",
              "      <td>1.0</td>\n",
              "      <td>6</td>\n",
              "      <td>122021.0</td>\n",
              "      <td>709.0</td>\n",
              "      <td>110.0</td>\n",
              "      <td>53.0</td>\n",
              "    </tr>\n",
              "  </tbody>\n",
              "</table>\n",
              "<p>60278 rows × 7 columns</p>\n",
              "</div>"
            ],
            "text/plain": [
              "        category_e  publish_to_trend  publish_day_num   pt_views  pt_likes  \\\n",
              "51554         11.0               4.0                6    53014.0    6725.0   \n",
              "120091         5.0               6.0                6   478628.0   54589.0   \n",
              "201111         0.0               7.0                3   800749.0   90071.0   \n",
              "102875         3.0               3.0                2   106722.0   11753.0   \n",
              "112477         3.0               8.0                5  6110235.0  734793.0   \n",
              "...            ...               ...              ...        ...       ...   \n",
              "147719         7.0               4.0                1   625579.0   53952.0   \n",
              "87548         10.0               3.0                5   553210.0   33514.0   \n",
              "9255           3.0               5.0                6   391549.0    6391.0   \n",
              "229352         3.0               2.0                2  1129215.0   44861.0   \n",
              "48079          1.0               1.0                6   122021.0     709.0   \n",
              "\n",
              "        pt_dislikes  pt_comments  \n",
              "51554          74.0        453.0  \n",
              "120091        309.0       5368.0  \n",
              "201111        308.0       3574.0  \n",
              "102875        108.0        684.0  \n",
              "112477       5889.0      72325.0  \n",
              "...             ...          ...  \n",
              "147719        389.0       3619.0  \n",
              "87548         378.0       1564.0  \n",
              "9255           90.0        318.0  \n",
              "229352        308.0       1785.0  \n",
              "48079         110.0         53.0  \n",
              "\n",
              "[60278 rows x 7 columns]"
            ]
          },
          "execution_count": 158,
          "metadata": {},
          "output_type": "execute_result"
        }
      ],
      "source": [
        "X_test"
      ]
    },
    {
      "cell_type": "code",
      "execution_count": null,
      "id": "97cd9e5c",
      "metadata": {
        "colab": {
          "base_uri": "https://localhost:8080/"
        },
        "id": "97cd9e5c",
        "outputId": "70d58a08-44db-4bcc-f0bb-787e753a3f2b"
      },
      "outputs": [
        {
          "data": {
            "text/plain": [
              "StandardScaler()"
            ]
          },
          "execution_count": 159,
          "metadata": {},
          "output_type": "execute_result"
        }
      ],
      "source": [
        "\n",
        "# Fit the scaler\n",
        "X_scaler.fit(X_train)\n"
      ]
    },
    {
      "cell_type": "code",
      "execution_count": null,
      "id": "396b0dcd",
      "metadata": {
        "id": "396b0dcd"
      },
      "outputs": [],
      "source": [
        "\n",
        "# Scale the data\n",
        "X_train_scaled = X_scaler.transform(X_train)\n",
        "X_test_scaled = X_scaler.transform(X_test)\n",
        "\n",
        "\n"
      ]
    },
    {
      "cell_type": "code",
      "execution_count": null,
      "id": "29b16185",
      "metadata": {
        "id": "29b16185"
      },
      "outputs": [],
      "source": [
        "import tensorflow as tf\n",
        "import numpy\n",
        "from sklearn.model_selection import GridSearchCV\n",
        "from keras.models import Sequential\n",
        "from keras.layers import Dense\n",
        "import keras\n",
        "from keras.wrappers.scikit_learn import KerasClassifier"
      ]
    },
    {
      "cell_type": "code",
      "execution_count": null,
      "id": "74601fe4",
      "metadata": {
        "colab": {
          "base_uri": "https://localhost:8080/"
        },
        "id": "74601fe4",
        "outputId": "2efac1de-afa5-4b12-bd2b-be1c7a1e221c"
      },
      "outputs": [
        {
          "name": "stdout",
          "output_type": "stream",
          "text": [
            "Model: \"sequential_5\"\n",
            "_________________________________________________________________\n",
            " Layer (type)                Output Shape              Param #   \n",
            "=================================================================\n",
            " dense_15 (Dense)            (None, 10)                80        \n",
            "                                                                 \n",
            " dense_16 (Dense)            (None, 10)                110       \n",
            "                                                                 \n",
            " dense_17 (Dense)            (None, 1)                 11        \n",
            "                                                                 \n",
            "=================================================================\n",
            "Total params: 201\n",
            "Trainable params: 201\n",
            "Non-trainable params: 0\n",
            "_________________________________________________________________\n"
          ]
        }
      ],
      "source": [
        "#Create a Keras Sequential model and add more than one Dense hidden layer\n",
        "nn_model = tf.keras.models.Sequential()\n",
        "\n",
        "nn_model.add(tf.keras.layers.Dense(units=10, activation=\"relu\", input_dim=7))\n",
        "\n",
        "nn_model.add(tf.keras.layers.Dense(units=10, activation=\"relu\"))\n",
        "\n",
        "nn_model.add(tf.keras.layers.Dense(units=1, activation=\"sigmoid\"))\n",
        "\n",
        "# Check the structure of the Sequential model\n",
        "nn_model.summary()"
      ]
    },
    {
      "cell_type": "code",
      "execution_count": null,
      "id": "49d73f9e",
      "metadata": {
        "colab": {
          "base_uri": "https://localhost:8080/"
        },
        "id": "49d73f9e",
        "outputId": "bed86236-63ca-48c7-af80-1df2d749119f"
      },
      "outputs": [
        {
          "name": "stdout",
          "output_type": "stream",
          "text": [
            "Epoch 1/5\n",
            "5652/5652 [==============================] - 10s 2ms/step - loss: 0.0532 - accuracy: 0.9341\n",
            "Epoch 2/5\n",
            "5652/5652 [==============================] - 9s 2ms/step - loss: 0.0454 - accuracy: 0.9426\n",
            "Epoch 3/5\n",
            "5652/5652 [==============================] - 9s 2ms/step - loss: 0.0452 - accuracy: 0.9428\n",
            "Epoch 4/5\n",
            "5652/5652 [==============================] - 9s 2ms/step - loss: 0.0451 - accuracy: 0.9427\n",
            "Epoch 5/5\n",
            "5652/5652 [==============================] - 9s 2ms/step - loss: 0.0450 - accuracy: 0.9427\n"
          ]
        }
      ],
      "source": [
        "# Compile the model and train over more than 100 epochs\n",
        "loss_fn = keras.losses.mean_squared_error\n",
        "nn_model.compile(loss=loss_fn, optimizer=\"adam\", metrics=[\"accuracy\"])\n",
        "#nn_model.compile(loss='binary_crossentropy', optimizer='adam', metrics=['accuracy'])\n",
        "fit_model = nn_model.fit(X_train_scaled, y_train, epochs=5)"
      ]
    },
    {
      "cell_type": "code",
      "execution_count": null,
      "id": "ABbYVf_9bodX",
      "metadata": {
        "colab": {
          "base_uri": "https://localhost:8080/"
        },
        "id": "ABbYVf_9bodX",
        "outputId": "cb278903-342e-437a-c934-1484745bff74"
      },
      "outputs": [
        {
          "name": "stdout",
          "output_type": "stream",
          "text": [
            "Model: \"sequential_5\"\n",
            "_________________________________________________________________\n",
            " Layer (type)                Output Shape              Param #   \n",
            "=================================================================\n",
            " dense_15 (Dense)            (None, 10)                80        \n",
            "                                                                 \n",
            " dense_16 (Dense)            (None, 10)                110       \n",
            "                                                                 \n",
            " dense_17 (Dense)            (None, 1)                 11        \n",
            "                                                                 \n",
            "=================================================================\n",
            "Total params: 201\n",
            "Trainable params: 201\n",
            "Non-trainable params: 0\n",
            "_________________________________________________________________\n"
          ]
        }
      ],
      "source": [
        "nn_model.summary()"
      ]
    },
    {
      "cell_type": "code",
      "execution_count": null,
      "id": "6c8d7c87",
      "metadata": {
        "colab": {
          "base_uri": "https://localhost:8080/"
        },
        "id": "6c8d7c87",
        "outputId": "5fb480f0-5545-4f7a-b118-104e5a9fff09"
      },
      "outputs": [
        {
          "name": "stdout",
          "output_type": "stream",
          "text": [
            "1884/1884 - 2s - loss: 0.0448 - accuracy: 0.9427 - 2s/epoch - 1ms/step\n",
            "Loss: 0.04476770758628845, Accuracy: 0.9426988363265991\n"
          ]
        }
      ],
      "source": [
        "# Evaluate the performance of model using the loss and predictive accuracy of the model on the test dataset.\n",
        "model_loss, model_accuracy = nn_model.evaluate(X_test_scaled,y_test,verbose=2)\n",
        "print(f\"Loss: {model_loss}, Accuracy: {model_accuracy}\")"
      ]
    },
    {
      "cell_type": "code",
      "execution_count": null,
      "id": "T_NubmLrzPhd",
      "metadata": {
        "id": "T_NubmLrzPhd"
      },
      "outputs": [],
      "source": [
        "# from sklearn.metrics import classification_report, confusion_matrix, accuracy_score\n",
        "\n",
        "# print(confusion_matrix(y_test,y_pred))"
      ]
    },
    {
      "cell_type": "code",
      "execution_count": null,
      "id": "e26f6a7f",
      "metadata": {
        "colab": {
          "base_uri": "https://localhost:8080/"
        },
        "id": "e26f6a7f",
        "outputId": "b0b90247-368f-4366-af74-d14db5756098"
      },
      "outputs": [],
      "source": [
        "# # save the model\n",
        "from pickle import dump, load\n",
        "import joblib\n",
        "from sklearn.metrics import accuracy_score\n",
        "# dump(nn_model, open('./models/model.pkl', 'wb'))\n",
        "\n",
        "# Use H5 format since Pkl format was giving issues\n",
        "nn_model.save('model_nn.h5')\n",
        "#Used Pkl for model columns\n",
        "model_columns = list(X_test.columns)\n",
        "dump(model_columns, open('model_columns_nn.pkl', 'wb'))\n",
        "\n",
        "# save the scaler using pickle format \n",
        "dump(X_scaler, open('scaler_nn.pkl', 'wb'))\n",
        "\n"
      ]
    },
    {
      "cell_type": "code",
      "execution_count": null,
      "id": "b20c9ef1",
      "metadata": {},
      "outputs": [],
      "source": [
        "#load the h5 model \n",
        "reconstructed_model=keras.models.load_model('model_nn.h5')\n",
        "\n",
        "# load the scaler uing pickle format.\n",
        "scaler = joblib.load('./scaler_nn.pkl')\n",
        "#load the columns usinf pickle format\n",
        "columns = joblib.load ('./model_columns_nn.pkl')\n",
        "\n"
      ]
    },
    {
      "cell_type": "code",
      "execution_count": null,
      "id": "bV1G5LkYy8r-",
      "metadata": {
        "colab": {
          "base_uri": "https://localhost:8080/"
        },
        "id": "bV1G5LkYy8r-",
        "outputId": "891df667-b171-4520-8baa-3c4602051173"
      },
      "outputs": [
        {
          "data": {
            "text/plain": [
              "7"
            ]
          },
          "execution_count": 169,
          "metadata": {},
          "output_type": "execute_result"
        }
      ],
      "source": [
        "index=1000\n",
        "# test_input=X_test.iloc[1,:].values.reshape(-1, 1)\n",
        "# test_target=y_test[0:1].reshape(-1, 1)\n",
        "columns\n",
        "len(columns)"
      ]
    },
    {
      "cell_type": "code",
      "execution_count": null,
      "id": "TJsyLT2VTyIA",
      "metadata": {
        "colab": {
          "base_uri": "https://localhost:8080/"
        },
        "id": "TJsyLT2VTyIA",
        "outputId": "00a77a7c-9a19-48ee-8232-82a64ed4a7ce"
      },
      "outputs": [
        {
          "data": {
            "text/plain": [
              "7"
            ]
          },
          "execution_count": 170,
          "metadata": {},
          "output_type": "execute_result"
        }
      ],
      "source": [
        "\n",
        "\n",
        "test_input=X_test.iloc[index,:].values.tolist()\n",
        "# test_input=[[0,6, 6, 47, 54, 3, 5, 7, 0.5]]\n",
        "test_target=y_test[index]\n",
        "len(test_input)\n",
        "\n"
      ]
    },
    {
      "cell_type": "code",
      "execution_count": null,
      "id": "lXroRnDgT3x7",
      "metadata": {
        "colab": {
          "base_uri": "https://localhost:8080/"
        },
        "id": "lXroRnDgT3x7",
        "outputId": "2809d504-b623-4dc6-f85d-e8f1a2bcac67"
      },
      "outputs": [
        {
          "data": {
            "text/plain": [
              "[1.0, 5.0, 6.0, 664002.0, 43748.0, 889.0, 7924.0]"
            ]
          },
          "execution_count": 171,
          "metadata": {},
          "output_type": "execute_result"
        }
      ],
      "source": [
        "\n",
        "test_input_df = pd.DataFrame ([test_input], columns = columns)\n",
        "test_input\n"
      ]
    },
    {
      "cell_type": "code",
      "execution_count": null,
      "id": "HRjhfgYp0fhv",
      "metadata": {
        "colab": {
          "base_uri": "https://localhost:8080/",
          "height": 81
        },
        "id": "HRjhfgYp0fhv",
        "outputId": "94c4e790-996f-4d68-a959-22f9cabefe8c"
      },
      "outputs": [
        {
          "data": {
            "text/html": [
              "<div>\n",
              "<style scoped>\n",
              "    .dataframe tbody tr th:only-of-type {\n",
              "        vertical-align: middle;\n",
              "    }\n",
              "\n",
              "    .dataframe tbody tr th {\n",
              "        vertical-align: top;\n",
              "    }\n",
              "\n",
              "    .dataframe thead th {\n",
              "        text-align: right;\n",
              "    }\n",
              "</style>\n",
              "<table border=\"1\" class=\"dataframe\">\n",
              "  <thead>\n",
              "    <tr style=\"text-align: right;\">\n",
              "      <th></th>\n",
              "      <th>category_e</th>\n",
              "      <th>publish_to_trend</th>\n",
              "      <th>publish_day_num</th>\n",
              "      <th>pt_views</th>\n",
              "      <th>pt_likes</th>\n",
              "      <th>pt_dislikes</th>\n",
              "      <th>pt_comments</th>\n",
              "    </tr>\n",
              "  </thead>\n",
              "  <tbody>\n",
              "    <tr>\n",
              "      <th>0</th>\n",
              "      <td>1.0</td>\n",
              "      <td>5.0</td>\n",
              "      <td>6.0</td>\n",
              "      <td>664002.0</td>\n",
              "      <td>43748.0</td>\n",
              "      <td>889.0</td>\n",
              "      <td>7924.0</td>\n",
              "    </tr>\n",
              "  </tbody>\n",
              "</table>\n",
              "</div>"
            ],
            "text/plain": [
              "   category_e  publish_to_trend  publish_day_num  pt_views  pt_likes  \\\n",
              "0         1.0               5.0              6.0  664002.0   43748.0   \n",
              "\n",
              "   pt_dislikes  pt_comments  \n",
              "0        889.0       7924.0  "
            ]
          },
          "execution_count": 172,
          "metadata": {},
          "output_type": "execute_result"
        }
      ],
      "source": [
        "test_input_df\n",
        "\n"
      ]
    },
    {
      "cell_type": "code",
      "execution_count": null,
      "id": "4411142e",
      "metadata": {
        "id": "4411142e"
      },
      "outputs": [],
      "source": []
    },
    {
      "cell_type": "code",
      "execution_count": null,
      "id": "-Bq0b943Ip_k",
      "metadata": {
        "id": "-Bq0b943Ip_k"
      },
      "outputs": [],
      "source": [
        "\n",
        "\n",
        "test_input_scaled = scaler.transform(test_input_df)"
      ]
    },
    {
      "cell_type": "code",
      "execution_count": null,
      "id": "i2oixsviNAyo",
      "metadata": {
        "colab": {
          "base_uri": "https://localhost:8080/"
        },
        "id": "i2oixsviNAyo",
        "outputId": "fe33a787-33da-4ebc-f79f-269f35a2e0be"
      },
      "outputs": [
        {
          "data": {
            "text/plain": [
              "array([[-1.38321674,  0.12927396,  1.52594166,  0.04624986,  0.04369425,\n",
              "         0.01210345,  0.37018281]])"
            ]
          },
          "execution_count": 174,
          "metadata": {},
          "output_type": "execute_result"
        }
      ],
      "source": [
        "test_input_scaled"
      ]
    },
    {
      "cell_type": "code",
      "execution_count": null,
      "id": "xYjYHHhT2dY6",
      "metadata": {
        "id": "xYjYHHhT2dY6"
      },
      "outputs": [
        {
          "name": "stdout",
          "output_type": "stream",
          "text": [
            "WARNING:tensorflow:5 out of the last 5 calls to <function Model.make_predict_function.<locals>.predict_function at 0x000001F80CCACAF0> triggered tf.function retracing. Tracing is expensive and the excessive number of tracings could be due to (1) creating @tf.function repeatedly in a loop, (2) passing tensors with different shapes, (3) passing Python objects instead of tensors. For (1), please define your @tf.function outside of the loop. For (2), @tf.function has reduce_retracing=True option that can avoid unnecessary retracing. For (3), please refer to https://www.tensorflow.org/guide/function#controlling_retracing and https://www.tensorflow.org/api_docs/python/tf/function for  more details.\n",
            "1/1 [==============================] - 0s 83ms/step\n"
          ]
        }
      ],
      "source": [
        "\n",
        "# reconstructed_model.compile(loss='mean_squared_error', optimizer='adam', metrics=['accuracy'])\n",
        "# score = reconstructed_model.evaluate(test_input, test_target, verbose=0)\n",
        "# print(\"%s: %.2f%%\" % (reconstructed_model.metrics_names[1], score[1]*100))\n",
        "\n",
        "# The reconstructed model is already compiled and has retained the optimizer\n",
        "# state, so training can resume:\n",
        "# reconstructed_model.fit(test_input_scaled, test_target)\n",
        "# score = reconstructed_model.evaluate(test_input_scaled, test_target, verbose=0)\n",
        "# print(\"%s: %.2f%%\" % (reconstructed_model.metrics_names[1], score[1]*100))\n",
        "\n",
        "test_target_hat = reconstructed_model.predict(test_input_scaled)\n",
        "# evaluate accuracy\n",
        "\n"
      ]
    },
    {
      "cell_type": "code",
      "execution_count": null,
      "id": "B2sJl7YZ4FhD",
      "metadata": {
        "colab": {
          "base_uri": "https://localhost:8080/"
        },
        "id": "B2sJl7YZ4FhD",
        "outputId": "26d6e010-fa5f-4fbd-8f22-e23f2337b34a"
      },
      "outputs": [
        {
          "name": "stdout",
          "output_type": "stream",
          "text": [
            "[[0.90573573]]\n"
          ]
        }
      ],
      "source": [
        "\n",
        "print(test_target_hat)\n"
      ]
    },
    {
      "cell_type": "code",
      "execution_count": null,
      "id": "Q8cCKWGc5A7M",
      "metadata": {
        "id": "Q8cCKWGc5A7M"
      },
      "outputs": [],
      "source": [
        "len(test_target_hat)\n",
        "test_target_hat[test_target_hat > 0.5] = 1\n",
        "test_target_hat[test_target_hat <= 0.5] = 0\n",
        "\n"
      ]
    },
    {
      "cell_type": "code",
      "execution_count": null,
      "id": "oZgfuBoV0HqT",
      "metadata": {
        "colab": {
          "base_uri": "https://localhost:8080/"
        },
        "id": "oZgfuBoV0HqT",
        "outputId": "307282d7-db70-4280-b5fa-9d6ff5bb5fc4"
      },
      "outputs": [
        {
          "name": "stdout",
          "output_type": "stream",
          "text": [
            "[[1.]]\n",
            "1\n"
          ]
        }
      ],
      "source": [
        "print(test_target_hat)\n",
        "print(test_target)"
      ]
    },
    {
      "cell_type": "code",
      "execution_count": null,
      "id": "tw5j70bs4Cw6",
      "metadata": {
        "id": "tw5j70bs4Cw6"
      },
      "outputs": [],
      "source": [
        "\n",
        "#acc = accuracy_score(test_target, test_target_hat)\n",
        "#print('Test Accuracy:', acc)"
      ]
    },
    {
      "cell_type": "code",
      "execution_count": null,
      "id": "59c1876f",
      "metadata": {
        "id": "59c1876f"
      },
      "outputs": [],
      "source": []
    },
    {
      "cell_type": "code",
      "execution_count": null,
      "id": "7f723520",
      "metadata": {
        "id": "7f723520"
      },
      "outputs": [],
      "source": []
    },
    {
      "cell_type": "code",
      "execution_count": null,
      "id": "98060b00",
      "metadata": {
        "id": "98060b00"
      },
      "outputs": [],
      "source": []
    },
    {
      "cell_type": "code",
      "execution_count": null,
      "id": "8df21f27",
      "metadata": {
        "id": "8df21f27"
      },
      "outputs": [],
      "source": []
    },
    {
      "cell_type": "code",
      "execution_count": null,
      "id": "88b767b2",
      "metadata": {
        "id": "88b767b2"
      },
      "outputs": [],
      "source": []
    },
    {
      "cell_type": "code",
      "execution_count": null,
      "id": "6c5370b9",
      "metadata": {
        "id": "6c5370b9"
      },
      "outputs": [],
      "source": []
    }
  ],
  "metadata": {
    "colab": {
      "name": "model_nn.ipynb",
      "provenance": []
    },
    "interpreter": {
      "hash": "0db0461b1f82769b8d6e0e32559349044198284e4a15daab25f6d850bd000b5a"
    },
    "kernelspec": {
      "display_name": "Python 3.8.8 ('base')",
      "language": "python",
      "name": "python3"
    },
    "language_info": {
      "codemirror_mode": {
        "name": "ipython",
        "version": 3
      },
      "file_extension": ".py",
      "mimetype": "text/x-python",
      "name": "python",
      "nbconvert_exporter": "python",
      "pygments_lexer": "ipython3",
      "version": "3.8.8"
    }
  },
  "nbformat": 4,
  "nbformat_minor": 5
}
