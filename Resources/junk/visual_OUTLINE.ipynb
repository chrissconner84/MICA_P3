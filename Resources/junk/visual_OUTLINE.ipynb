{
 "cells": [
  {
   "cell_type": "code",
   "execution_count": 3,
   "id": "ee1c3ba7",
   "metadata": {},
   "outputs": [],
   "source": [
    "#### page 1 Bar set (2 stacked)\n",
    "\n",
    "#  1. top channels by count of days trending\n",
    "#     bar\n",
    "#     x = channel title\n",
    "#     y = total days trending (total views on last day trending? total views while trending? need to discuss)\n",
    "#     color = channel category\n",
    "#     interactive legend = channel category\n",
    "\n",
    "\n",
    "\n",
    "#  2. top videos by total views on last day trending\n",
    "#     bar\n",
    "#     x = video title\n",
    "#     y = total views on last day trending (or total views while trending? or most days trended? need to discuss)\n",
    "#     color = channel category\n",
    "#     interactive legend = channel category"
   ]
  },
  {
   "cell_type": "code",
   "execution_count": 4,
   "id": "caeb6036",
   "metadata": {},
   "outputs": [],
   "source": [
    "#### page 2 bottom\n",
    "\n",
    "#     proportion of trending list by category by day (or by week?)\n",
    "#     pie\n",
    "#     values = total videos on any day (or week>)\n",
    "#     names = categories\n",
    "#     interactive slider = date (or week? ALSO, for which time period? all data? year-to-date? since 1/1/21? need to discuss)"
   ]
  },
  {
   "cell_type": "code",
   "execution_count": 1,
   "id": "1d2b09f3",
   "metadata": {},
   "outputs": [],
   "source": [
    "#### page 2 Bar set (4 across)\n",
    "\n",
    "#  1. 'likes per view'\n",
    "#    bar\n",
    "#    x = categories\n",
    "#    data = likes per view on last day trending\n",
    "#    legend = country\n",
    "\n",
    "#  2. 'dislikes per view'\n",
    "#    bar \n",
    "#    x = categories\n",
    "#    data = dislikes per view on last day trending\n",
    "#    legend = country\n",
    "\n",
    "#  3. 'comments per view'\n",
    "#    bar \n",
    "#    x = categories\n",
    "#    data = comments per view on last day trending\n",
    "#    legend = country\n",
    "\n",
    "#  4. 'engagements per view' ('engagements' could simply be views + comments + likes + views OR SOMETHING LIKE\n",
    "#                        0.4*views + 0.3*comments + 0.15*likes + 0.15*dislikes WHICH WEIGHTS COMMENTS OVER LIKES/DISLIKES)\n",
    "#    bar\n",
    "#    x = categories\n",
    "#    data = comments per view on last day trending\n",
    "#    legend = country"
   ]
  },
  {
   "cell_type": "code",
   "execution_count": 12,
   "id": "4d910b99",
   "metadata": {},
   "outputs": [],
   "source": [
    "#### page 2 bottom\n",
    "\n",
    "#     'engagements while trending'\n",
    "#     heatmap  or scatter\n",
    "#     x = total engagements on last day trending - total engagements on first day trending\n",
    "#     y = average days trending of video\n",
    "#     legend = country\n",
    "\n",
    "#     backup plan in case this doesn't paint a good picture - have a second \n",
    "#       row of histograms (cut and paste above) with category in the legend\n"
   ]
  },
  {
   "cell_type": "code",
   "execution_count": null,
   "id": "0f7cf708",
   "metadata": {},
   "outputs": [],
   "source": [
    "#### page 3 \n",
    "\n",
    "#     views by country on any given date (or week?)\n",
    "\n",
    "#     large geoJSON map of world\n",
    "#     marker in each of 11 countries\n",
    "#     marker displays total views (or engagements?) for whichever time period the user enters (could be input box? could be\n",
    "#                a dropdown with weeks 1-100? could be a date slider like pie chart on page 1? many options here)\n"
   ]
  }
 ],
 "metadata": {
  "kernelspec": {
   "display_name": "Python 3",
   "language": "python",
   "name": "python3"
  },
  "language_info": {
   "codemirror_mode": {
    "name": "ipython",
    "version": 3
   },
   "file_extension": ".py",
   "mimetype": "text/x-python",
   "name": "python",
   "nbconvert_exporter": "python",
   "pygments_lexer": "ipython3",
   "version": "3.8.8"
  }
 },
 "nbformat": 4,
 "nbformat_minor": 5
}
