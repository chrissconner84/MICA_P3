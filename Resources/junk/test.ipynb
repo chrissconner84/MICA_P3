{
 "cells": [
  {
   "cell_type": "code",
   "execution_count": 9,
   "metadata": {},
   "outputs": [],
   "source": [
    "from flask import Flask, render_template, redirect, jsonify, url_for\n",
    "\n",
    "from sqlalchemy import create_engine\n",
    "#from config import db_password, db_user, db_name, endpoint\n",
    "import pandas as pd\n",
    "db_password = \"postgres\"\n",
    "db_user = \"postgres\"\n",
    "db_name = \"Youtube P3\"\n",
    "endpoint = 'youtube.cb1bticre0py.us-east-1.rds.amazonaws.com'\n",
    "\n",
    "import json\n",
    "\n",
    "connection_string = f\"postgresql://{db_user}:{db_password}@{endpoint}:5432/{db_name}\"\n",
    "engine = create_engine(connection_string)\n",
    "all_df = pd.read_sql(\"Select * from all_data limit 10\", con=engine)\n",
    "# usa_df= pd.read_sql(\"Select * from us_data\", con=engine)\n"
   ]
  },
  {
   "cell_type": "code",
   "execution_count": 17,
   "metadata": {},
   "outputs": [
    {
     "data": {
      "text/html": [
       "<div>\n",
       "<style scoped>\n",
       "    .dataframe tbody tr th:only-of-type {\n",
       "        vertical-align: middle;\n",
       "    }\n",
       "\n",
       "    .dataframe tbody tr th {\n",
       "        vertical-align: top;\n",
       "    }\n",
       "\n",
       "    .dataframe thead th {\n",
       "        text-align: right;\n",
       "    }\n",
       "</style>\n",
       "<table border=\"1\" class=\"dataframe\">\n",
       "  <thead>\n",
       "    <tr style=\"text-align: right;\">\n",
       "      <th></th>\n",
       "      <th>country</th>\n",
       "      <th>likes</th>\n",
       "      <th>dislikes</th>\n",
       "      <th>view_count</th>\n",
       "    </tr>\n",
       "  </thead>\n",
       "  <tbody>\n",
       "    <tr>\n",
       "      <th>0</th>\n",
       "      <td>South Korea</td>\n",
       "      <td>36903.0</td>\n",
       "      <td>894.0</td>\n",
       "      <td>2132996</td>\n",
       "    </tr>\n",
       "    <tr>\n",
       "      <th>1</th>\n",
       "      <td>South Korea</td>\n",
       "      <td>5299.0</td>\n",
       "      <td>174.0</td>\n",
       "      <td>334852</td>\n",
       "    </tr>\n",
       "    <tr>\n",
       "      <th>2</th>\n",
       "      <td>South Korea</td>\n",
       "      <td>5529.0</td>\n",
       "      <td>162.0</td>\n",
       "      <td>433232</td>\n",
       "    </tr>\n",
       "    <tr>\n",
       "      <th>3</th>\n",
       "      <td>South Korea</td>\n",
       "      <td>11709.0</td>\n",
       "      <td>104.0</td>\n",
       "      <td>251128</td>\n",
       "    </tr>\n",
       "    <tr>\n",
       "      <th>4</th>\n",
       "      <td>South Korea</td>\n",
       "      <td>9465.0</td>\n",
       "      <td>13.0</td>\n",
       "      <td>36804</td>\n",
       "    </tr>\n",
       "  </tbody>\n",
       "</table>\n",
       "</div>"
      ],
      "text/plain": [
       "       country    likes  dislikes  view_count\n",
       "0  South Korea  36903.0     894.0     2132996\n",
       "1  South Korea   5299.0     174.0      334852\n",
       "2  South Korea   5529.0     162.0      433232\n",
       "3  South Korea  11709.0     104.0      251128\n",
       "4  South Korea   9465.0      13.0       36804"
      ]
     },
     "execution_count": 17,
     "metadata": {},
     "output_type": "execute_result"
    }
   ],
   "source": [
    "\n",
    "countries_likes_dislikes_view_count=engine.execute(\"SELECT COUNTRY, LIKES, DISLIKES, VIEW_COUNT FROM all_data limit 100\")\n",
    "countries_likes_dislikes_view_count_df=pd.DataFrame(countries_likes_dislikes_view_count)\n",
    "countries_likes_dislikes_view_count_df.head()\n"
   ]
  },
  {
   "cell_type": "code",
   "execution_count": 20,
   "metadata": {},
   "outputs": [
    {
     "name": "stdout",
     "output_type": "stream",
     "text": [
      "[{\"country\":\"South Korea\",\"likes\":36903.0,\"dislikes\":894.0,\"view_count\":2132996},{\"country\":\"South Korea\",\"likes\":5299.0,\"dislikes\":174.0,\"view_count\":334852},{\"country\":\"South Korea\",\"likes\":5529.0,\"dislikes\":162.0,\"view_count\":433232},{\"country\":\"South Korea\",\"likes\":11709.0,\"dislikes\":104.0,\"view_count\":251128},{\"country\":\"South Korea\",\"likes\":9465.0,\"dislikes\":13.0,\"view_count\":36804},{\"country\":\"South Korea\",\"likes\":11829.0,\"dislikes\":172.0,\"view_count\":332597},{\"country\":\"South Korea\",\"likes\":15757.0,\"dislikes\":97.0,\"view_count\":461342},{\"country\":\"South Korea\",\"likes\":8864.0,\"dislikes\":121.0,\"view_count\":651893},{\"country\":\"South Korea\",\"likes\":1362.0,\"dislikes\":51.0,\"view_count\":185693},{\"country\":\"South Korea\",\"likes\":38149.0,\"dislikes\":234.0,\"view_count\":486110},{\"country\":\"South Korea\",\"likes\":14170.0,\"dislikes\":54.0,\"view_count\":117702},{\"country\":\"South Korea\",\"likes\":4114.0,\"dislikes\":93.0,\"view_count\":223372},{\"country\":\"South Korea\",\"likes\":6928.0,\"dislikes\":90.0,\"view_count\":590690},{\"country\":\"South Korea\",\"likes\":30054.0,\"dislikes\":1658.0,\"view_count\":3697024},{\"country\":\"South Korea\",\"likes\":13301.0,\"dislikes\":249.0,\"view_count\":730108},{\"country\":\"South Korea\",\"likes\":5558.0,\"dislikes\":907.0,\"view_count\":659214},{\"country\":\"South Korea\",\"likes\":6408.0,\"dislikes\":176.0,\"view_count\":273288},{\"country\":\"South Korea\",\"likes\":1420.0,\"dislikes\":40.0,\"view_count\":246988},{\"country\":\"South Korea\",\"likes\":6888.0,\"dislikes\":209.0,\"view_count\":328358},{\"country\":\"South Korea\",\"likes\":48193.0,\"dislikes\":1893.0,\"view_count\":2436608},{\"country\":\"South Korea\",\"likes\":6477.0,\"dislikes\":67.0,\"view_count\":258913},{\"country\":\"South Korea\",\"likes\":276827.0,\"dislikes\":776.0,\"view_count\":1910122},{\"country\":\"South Korea\",\"likes\":1300.0,\"dislikes\":117.0,\"view_count\":198236},{\"country\":\"South Korea\",\"likes\":46189.0,\"dislikes\":1102.0,\"view_count\":2984526},{\"country\":\"South Korea\",\"likes\":29016.0,\"dislikes\":663.0,\"view_count\":1246509},{\"country\":\"South Korea\",\"likes\":0.0,\"dislikes\":0.0,\"view_count\":390053},{\"country\":\"South Korea\",\"likes\":15389.0,\"dislikes\":477.0,\"view_count\":1730107},{\"country\":\"South Korea\",\"likes\":4729.0,\"dislikes\":101.0,\"view_count\":259204},{\"country\":\"South Korea\",\"likes\":27600.0,\"dislikes\":514.0,\"view_count\":1650439},{\"country\":\"South Korea\",\"likes\":7903.0,\"dislikes\":235.0,\"view_count\":234295},{\"country\":\"South Korea\",\"likes\":21978.0,\"dislikes\":249.0,\"view_count\":971639},{\"country\":\"South Korea\",\"likes\":7706.0,\"dislikes\":290.0,\"view_count\":998926},{\"country\":\"South Korea\",\"likes\":9218.0,\"dislikes\":238.0,\"view_count\":282238},{\"country\":\"South Korea\",\"likes\":19672.0,\"dislikes\":74.0,\"view_count\":383746},{\"country\":\"South Korea\",\"likes\":4706.0,\"dislikes\":152.0,\"view_count\":644866},{\"country\":\"South Korea\",\"likes\":10917.0,\"dislikes\":266.0,\"view_count\":731110},{\"country\":\"South Korea\",\"likes\":7648.0,\"dislikes\":369.0,\"view_count\":575602},{\"country\":\"South Korea\",\"likes\":13183.0,\"dislikes\":320.0,\"view_count\":1132131},{\"country\":\"South Korea\",\"likes\":7322.0,\"dislikes\":425.0,\"view_count\":1161109},{\"country\":\"South Korea\",\"likes\":2881.0,\"dislikes\":151.0,\"view_count\":448018},{\"country\":\"South Korea\",\"likes\":11870.0,\"dislikes\":238.0,\"view_count\":419413},{\"country\":\"South Korea\",\"likes\":1459.0,\"dislikes\":318.0,\"view_count\":173140},{\"country\":\"South Korea\",\"likes\":6625.0,\"dislikes\":116.0,\"view_count\":378302},{\"country\":\"South Korea\",\"likes\":5956.0,\"dislikes\":168.0,\"view_count\":513267},{\"country\":\"South Korea\",\"likes\":6069.0,\"dislikes\":273.0,\"view_count\":768503},{\"country\":\"South Korea\",\"likes\":39807.0,\"dislikes\":412.0,\"view_count\":1119970},{\"country\":\"South Korea\",\"likes\":17206.0,\"dislikes\":402.0,\"view_count\":2553529},{\"country\":\"South Korea\",\"likes\":4815.0,\"dislikes\":262.0,\"view_count\":785010},{\"country\":\"South Korea\",\"likes\":3724.0,\"dislikes\":42.0,\"view_count\":234939},{\"country\":\"South Korea\",\"likes\":35197.0,\"dislikes\":256.0,\"view_count\":471775},{\"country\":\"South Korea\",\"likes\":7068.0,\"dislikes\":218.0,\"view_count\":349347},{\"country\":\"South Korea\",\"likes\":10812.0,\"dislikes\":95.0,\"view_count\":328326},{\"country\":\"South Korea\",\"likes\":3907.0,\"dislikes\":213.0,\"view_count\":815990},{\"country\":\"South Korea\",\"likes\":5217.0,\"dislikes\":191.0,\"view_count\":1039474},{\"country\":\"South Korea\",\"likes\":23019.0,\"dislikes\":264.0,\"view_count\":719282},{\"country\":\"South Korea\",\"likes\":10258.0,\"dislikes\":240.0,\"view_count\":1214541},{\"country\":\"South Korea\",\"likes\":115221.0,\"dislikes\":139.0,\"view_count\":598650},{\"country\":\"South Korea\",\"likes\":3963.0,\"dislikes\":74.0,\"view_count\":107668},{\"country\":\"South Korea\",\"likes\":4966.0,\"dislikes\":147.0,\"view_count\":222821},{\"country\":\"South Korea\",\"likes\":5855.0,\"dislikes\":266.0,\"view_count\":373539},{\"country\":\"South Korea\",\"likes\":32522.0,\"dislikes\":839.0,\"view_count\":1337322},{\"country\":\"South Korea\",\"likes\":26842.0,\"dislikes\":1419.0,\"view_count\":1114668},{\"country\":\"South Korea\",\"likes\":27986.0,\"dislikes\":1074.0,\"view_count\":719481},{\"country\":\"South Korea\",\"likes\":2728.0,\"dislikes\":83.0,\"view_count\":158776},{\"country\":\"South Korea\",\"likes\":20681.0,\"dislikes\":417.0,\"view_count\":1061694},{\"country\":\"South Korea\",\"likes\":7747.0,\"dislikes\":96.0,\"view_count\":165802},{\"country\":\"South Korea\",\"likes\":0.0,\"dislikes\":0.0,\"view_count\":362893},{\"country\":\"South Korea\",\"likes\":12620.0,\"dislikes\":868.0,\"view_count\":2246410},{\"country\":\"South Korea\",\"likes\":3467.0,\"dislikes\":169.0,\"view_count\":103081},{\"country\":\"South Korea\",\"likes\":0.0,\"dislikes\":0.0,\"view_count\":601659},{\"country\":\"South Korea\",\"likes\":8250.0,\"dislikes\":166.0,\"view_count\":451547},{\"country\":\"South Korea\",\"likes\":4771.0,\"dislikes\":203.0,\"view_count\":427034},{\"country\":\"South Korea\",\"likes\":164855.0,\"dislikes\":297.0,\"view_count\":1095733},{\"country\":\"South Korea\",\"likes\":5726.0,\"dislikes\":632.0,\"view_count\":1241518},{\"country\":\"South Korea\",\"likes\":118.0,\"dislikes\":56.0,\"view_count\":1789574},{\"country\":\"South Korea\",\"likes\":13346.0,\"dislikes\":463.0,\"view_count\":1226840},{\"country\":\"South Korea\",\"likes\":3706.0,\"dislikes\":175.0,\"view_count\":209816},{\"country\":\"South Korea\",\"likes\":3930.0,\"dislikes\":128.0,\"view_count\":590375},{\"country\":\"South Korea\",\"likes\":11115.0,\"dislikes\":683.0,\"view_count\":576372},{\"country\":\"South Korea\",\"likes\":982.0,\"dislikes\":39.0,\"view_count\":196782},{\"country\":\"South Korea\",\"likes\":13103.0,\"dislikes\":524.0,\"view_count\":1168137},{\"country\":\"South Korea\",\"likes\":7606.0,\"dislikes\":221.0,\"view_count\":421878},{\"country\":\"South Korea\",\"likes\":9678.0,\"dislikes\":415.0,\"view_count\":345912},{\"country\":\"South Korea\",\"likes\":2687.0,\"dislikes\":119.0,\"view_count\":164244},{\"country\":\"South Korea\",\"likes\":4934.0,\"dislikes\":187.0,\"view_count\":392141},{\"country\":\"South Korea\",\"likes\":1310.0,\"dislikes\":45.0,\"view_count\":58401},{\"country\":\"South Korea\",\"likes\":18038.0,\"dislikes\":425.0,\"view_count\":1210433},{\"country\":\"South Korea\",\"likes\":25730.0,\"dislikes\":481.0,\"view_count\":1753619},{\"country\":\"South Korea\",\"likes\":9389.0,\"dislikes\":240.0,\"view_count\":311933},{\"country\":\"South Korea\",\"likes\":1238.0,\"dislikes\":106.0,\"view_count\":112579},{\"country\":\"South Korea\",\"likes\":18305.0,\"dislikes\":426.0,\"view_count\":1804648},{\"country\":\"South Korea\",\"likes\":220341.0,\"dislikes\":874.0,\"view_count\":2511832},{\"country\":\"South Korea\",\"likes\":3847.0,\"dislikes\":319.0,\"view_count\":443294},{\"country\":\"South Korea\",\"likes\":1615635.0,\"dislikes\":16272.0,\"view_count\":19482456},{\"country\":\"South Korea\",\"likes\":1720.0,\"dislikes\":114.0,\"view_count\":469982},{\"country\":\"South Korea\",\"likes\":153852.0,\"dislikes\":197.0,\"view_count\":853819},{\"country\":\"South Korea\",\"likes\":73486.0,\"dislikes\":1390.0,\"view_count\":1599905},{\"country\":\"South Korea\",\"likes\":38916.0,\"dislikes\":2504.0,\"view_count\":2329284},{\"country\":\"South Korea\",\"likes\":22105.0,\"dislikes\":542.0,\"view_count\":1235088},{\"country\":\"South Korea\",\"likes\":0.0,\"dislikes\":0.0,\"view_count\":2523804}]\n"
     ]
    }
   ],
   "source": [
    "\n",
    "#res = [{k:v for k, v in row.items()} for i, row in countries_likes_dislikes_view_count_df.iterrows()]\n",
    "countries_likes_dislikes_view_count_json=countries_likes_dislikes_view_count_df.to_dict(orient=\"records\")\n",
    "# jsonStr = json.dumps(res)\n",
    "# pprint(jsonStr)\n",
    "print(countries_likes_dislikes_view_count_json)\n",
    "# rets=jsonify(response=res)\n",
    "# rets"
   ]
  },
  {
   "cell_type": "code",
   "execution_count": 13,
   "metadata": {},
   "outputs": [
    {
     "data": {
      "text/html": [
       "<div>\n",
       "<style scoped>\n",
       "    .dataframe tbody tr th:only-of-type {\n",
       "        vertical-align: middle;\n",
       "    }\n",
       "\n",
       "    .dataframe tbody tr th {\n",
       "        vertical-align: top;\n",
       "    }\n",
       "\n",
       "    .dataframe thead th {\n",
       "        text-align: right;\n",
       "    }\n",
       "</style>\n",
       "<table border=\"1\" class=\"dataframe\">\n",
       "  <thead>\n",
       "    <tr style=\"text-align: right;\">\n",
       "      <th></th>\n",
       "      <th>country</th>\n",
       "      <th>likes</th>\n",
       "      <th>dislikes</th>\n",
       "      <th>view_count</th>\n",
       "    </tr>\n",
       "  </thead>\n",
       "  <tbody>\n",
       "    <tr>\n",
       "      <th>0</th>\n",
       "      <td>South Korea</td>\n",
       "      <td>36903.0</td>\n",
       "      <td>894.0</td>\n",
       "      <td>2132996</td>\n",
       "    </tr>\n",
       "    <tr>\n",
       "      <th>1</th>\n",
       "      <td>South Korea</td>\n",
       "      <td>5299.0</td>\n",
       "      <td>174.0</td>\n",
       "      <td>334852</td>\n",
       "    </tr>\n",
       "    <tr>\n",
       "      <th>2</th>\n",
       "      <td>South Korea</td>\n",
       "      <td>5529.0</td>\n",
       "      <td>162.0</td>\n",
       "      <td>433232</td>\n",
       "    </tr>\n",
       "    <tr>\n",
       "      <th>3</th>\n",
       "      <td>South Korea</td>\n",
       "      <td>11709.0</td>\n",
       "      <td>104.0</td>\n",
       "      <td>251128</td>\n",
       "    </tr>\n",
       "    <tr>\n",
       "      <th>4</th>\n",
       "      <td>South Korea</td>\n",
       "      <td>9465.0</td>\n",
       "      <td>13.0</td>\n",
       "      <td>36804</td>\n",
       "    </tr>\n",
       "  </tbody>\n",
       "</table>\n",
       "</div>"
      ],
      "text/plain": [
       "       country    likes  dislikes  view_count\n",
       "0  South Korea  36903.0     894.0     2132996\n",
       "1  South Korea   5299.0     174.0      334852\n",
       "2  South Korea   5529.0     162.0      433232\n",
       "3  South Korea  11709.0     104.0      251128\n",
       "4  South Korea   9465.0      13.0       36804"
      ]
     },
     "execution_count": 13,
     "metadata": {},
     "output_type": "execute_result"
    }
   ],
   "source": [
    "countries_likes_dislikes_view_count_df.head()"
   ]
  },
  {
   "cell_type": "code",
   "execution_count": null,
   "metadata": {},
   "outputs": [],
   "source": []
  }
 ],
 "metadata": {
  "interpreter": {
   "hash": "e7525c9c64bb4f756fa5119475523321714396a5c4e4913ca726a00dbe654c57"
  },
  "kernelspec": {
   "display_name": "Python 3.9.12 64-bit (windows store)",
   "language": "python",
   "name": "python3"
  },
  "language_info": {
   "codemirror_mode": {
    "name": "ipython",
    "version": 3
   },
   "file_extension": ".py",
   "mimetype": "text/x-python",
   "name": "python",
   "nbconvert_exporter": "python",
   "pygments_lexer": "ipython3",
   "version": "3.9.12"
  },
  "orig_nbformat": 4
 },
 "nbformat": 4,
 "nbformat_minor": 2
}
